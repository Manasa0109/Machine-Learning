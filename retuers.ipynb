{
  "nbformat": 4,
  "nbformat_minor": 0,
  "metadata": {
    "colab": {
      "provenance": [],
      "authorship_tag": "ABX9TyNUYPVmmFD7NbfbPwlGQ4Er",
      "include_colab_link": true
    },
    "kernelspec": {
      "name": "python3",
      "display_name": "Python 3"
    },
    "language_info": {
      "name": "python"
    }
  },
  "cells": [
    {
      "cell_type": "markdown",
      "metadata": {
        "id": "view-in-github",
        "colab_type": "text"
      },
      "source": [
        "<a href=\"https://colab.research.google.com/github/Manasa0109/Machine-Learning/blob/main/retuers.ipynb\" target=\"_parent\"><img src=\"https://colab.research.google.com/assets/colab-badge.svg\" alt=\"Open In Colab\"/></a>"
      ]
    },
    {
      "cell_type": "code",
      "execution_count": 1,
      "metadata": {
        "colab": {
          "base_uri": "https://localhost:8080/"
        },
        "id": "Sq4t9oaUU9Xf",
        "outputId": "66aff8a5-3be4-4d1b-9c49-7a0cabc0a1ec"
      },
      "outputs": [
        {
          "output_type": "stream",
          "name": "stderr",
          "text": [
            "[nltk_data] Downloading package reuters to /root/nltk_data...\n"
          ]
        },
        {
          "output_type": "execute_result",
          "data": {
            "text/plain": [
              "True"
            ]
          },
          "metadata": {},
          "execution_count": 1
        }
      ],
      "source": [
        "import nltk\n",
        "nltk.download('reuters')"
      ]
    },
    {
      "cell_type": "code",
      "source": [
        "import nltk\n",
        "nltk.download('punkt')"
      ],
      "metadata": {
        "colab": {
          "base_uri": "https://localhost:8080/"
        },
        "id": "85t0N0-FXYDU",
        "outputId": "47733b2c-f38e-4148-df7a-9113e8015376"
      },
      "execution_count": 4,
      "outputs": [
        {
          "output_type": "stream",
          "name": "stderr",
          "text": [
            "[nltk_data] Downloading package punkt to /root/nltk_data...\n",
            "[nltk_data]   Unzipping tokenizers/punkt.zip.\n"
          ]
        },
        {
          "output_type": "execute_result",
          "data": {
            "text/plain": [
              "True"
            ]
          },
          "metadata": {},
          "execution_count": 4
        }
      ]
    },
    {
      "cell_type": "code",
      "source": [
        "from nltk.corpus import reuters\n",
        "from nltk import bigrams,trigrams\n",
        "from collections import Counter,defaultdict"
      ],
      "metadata": {
        "id": "oY6Y1Hi6YODU"
      },
      "execution_count": 7,
      "outputs": []
    },
    {
      "cell_type": "code",
      "source": [
        "model=defaultdict(lambda:defaultdict(lambda:0))"
      ],
      "metadata": {
        "id": "aXZY0stuYOv0"
      },
      "execution_count": 9,
      "outputs": []
    },
    {
      "cell_type": "code",
      "source": [
        "for sentence in reuters.sents():\n",
        "    for w1, w2, w3 in trigrams(sentence, pad_right=True, pad_left=True):\n",
        "        model[(w1, w2)][w3] += 1\n"
      ],
      "metadata": {
        "id": "kw7Vvz0XZBx_"
      },
      "execution_count": 10,
      "outputs": []
    },
    {
      "cell_type": "code",
      "source": [
        "for w1_w2 in model:\n",
        "    total_count = float(sum(model[w1_w2].values()))\n",
        "    for w3 in model[w1_w2]:\n",
        "        model[w1_w2][w3] /= total_count"
      ],
      "metadata": {
        "id": "DgEfd2PwZD1e"
      },
      "execution_count": 11,
      "outputs": []
    },
    {
      "cell_type": "code",
      "source": [
        "dict(model[\"today\",\"the\"])"
      ],
      "metadata": {
        "colab": {
          "base_uri": "https://localhost:8080/"
        },
        "id": "hzobqzumZJpB",
        "outputId": "bb3b1280-7190-463c-d05b-48ed7c4e7bf3"
      },
      "execution_count": 12,
      "outputs": [
        {
          "output_type": "execute_result",
          "data": {
            "text/plain": [
              "{'public': 0.05555555555555555,\n",
              " 'European': 0.05555555555555555,\n",
              " 'Bank': 0.05555555555555555,\n",
              " 'price': 0.1111111111111111,\n",
              " 'emirate': 0.05555555555555555,\n",
              " 'overseas': 0.05555555555555555,\n",
              " 'newspaper': 0.05555555555555555,\n",
              " 'company': 0.16666666666666666,\n",
              " 'Turkish': 0.05555555555555555,\n",
              " 'increase': 0.05555555555555555,\n",
              " 'options': 0.05555555555555555,\n",
              " 'Higher': 0.05555555555555555,\n",
              " 'pound': 0.05555555555555555,\n",
              " 'Italian': 0.05555555555555555,\n",
              " 'time': 0.05555555555555555}"
            ]
          },
          "metadata": {},
          "execution_count": 12
        }
      ]
    },
    {
      "cell_type": "code",
      "source": [
        "dict(model[\"the\",\"price\"])"
      ],
      "metadata": {
        "colab": {
          "base_uri": "https://localhost:8080/"
        },
        "id": "oWI6CPtLZMXC",
        "outputId": "9448a918-6923-49bd-cf39-0adac4a08dbe"
      },
      "execution_count": 13,
      "outputs": [
        {
          "output_type": "execute_result",
          "data": {
            "text/plain": [
              "{'yesterday': 0.004651162790697674,\n",
              " 'of': 0.3209302325581395,\n",
              " 'it': 0.05581395348837209,\n",
              " 'effect': 0.004651162790697674,\n",
              " 'cut': 0.009302325581395349,\n",
              " 'for': 0.05116279069767442,\n",
              " 'paid': 0.013953488372093023,\n",
              " 'to': 0.05581395348837209,\n",
              " 'increases': 0.013953488372093023,\n",
              " 'used': 0.004651162790697674,\n",
              " 'climate': 0.004651162790697674,\n",
              " '.': 0.023255813953488372,\n",
              " 'cuts': 0.009302325581395349,\n",
              " 'reductions': 0.004651162790697674,\n",
              " 'limit': 0.004651162790697674,\n",
              " 'now': 0.004651162790697674,\n",
              " 'moved': 0.004651162790697674,\n",
              " 'per': 0.013953488372093023,\n",
              " 'adjustments': 0.004651162790697674,\n",
              " '(': 0.009302325581395349,\n",
              " 'slumped': 0.004651162790697674,\n",
              " 'is': 0.018604651162790697,\n",
              " 'move': 0.004651162790697674,\n",
              " 'evolution': 0.004651162790697674,\n",
              " 'differentials': 0.009302325581395349,\n",
              " 'went': 0.004651162790697674,\n",
              " 'the': 0.013953488372093023,\n",
              " 'factor': 0.004651162790697674,\n",
              " 'Royal': 0.004651162790697674,\n",
              " ',': 0.018604651162790697,\n",
              " 'again': 0.004651162790697674,\n",
              " 'changes': 0.004651162790697674,\n",
              " 'holds': 0.004651162790697674,\n",
              " 'has': 0.009302325581395349,\n",
              " 'fall': 0.004651162790697674,\n",
              " '-': 0.004651162790697674,\n",
              " 'from': 0.004651162790697674,\n",
              " 'base': 0.004651162790697674,\n",
              " 'on': 0.004651162790697674,\n",
              " 'review': 0.004651162790697674,\n",
              " 'while': 0.004651162790697674,\n",
              " 'collapse': 0.004651162790697674,\n",
              " 'being': 0.004651162790697674,\n",
              " 'at': 0.023255813953488372,\n",
              " 'outlook': 0.004651162790697674,\n",
              " 'rises': 0.004651162790697674,\n",
              " 'drop': 0.004651162790697674,\n",
              " 'guaranteed': 0.004651162790697674,\n",
              " ',\"': 0.004651162790697674,\n",
              " 'stayed': 0.009302325581395349,\n",
              " 'structure': 0.004651162790697674,\n",
              " 'and': 0.004651162790697674,\n",
              " 'could': 0.004651162790697674,\n",
              " 'related': 0.004651162790697674,\n",
              " 'hike': 0.004651162790697674,\n",
              " 'we': 0.004651162790697674,\n",
              " 'adjustment': 0.023255813953488372,\n",
              " 'policy': 0.004651162790697674,\n",
              " 'was': 0.009302325581395349,\n",
              " 'revision': 0.004651162790697674,\n",
              " 'freeze': 0.009302325581395349,\n",
              " 'led': 0.004651162790697674,\n",
              " 'action': 0.004651162790697674,\n",
              " 'zone': 0.004651162790697674,\n",
              " 'slump': 0.004651162790697674,\n",
              " 'had': 0.004651162790697674,\n",
              " 'difference': 0.004651162790697674,\n",
              " 'in': 0.004651162790697674,\n",
              " 'raise': 0.004651162790697674,\n",
              " 'increase': 0.009302325581395349,\n",
              " 'will': 0.013953488372093023,\n",
              " 'support': 0.004651162790697674,\n",
              " 'gap': 0.004651162790697674,\n",
              " 'would': 0.009302325581395349,\n",
              " 'projected': 0.004651162790697674,\n",
              " 'approached': 0.004651162790697674,\n",
              " 'instability': 0.004651162790697674}"
            ]
          },
          "metadata": {},
          "execution_count": 13
        }
      ]
    },
    {
      "cell_type": "code",
      "source": [],
      "metadata": {
        "id": "6vrVy_IDZYWw"
      },
      "execution_count": null,
      "outputs": []
    }
  ]
}